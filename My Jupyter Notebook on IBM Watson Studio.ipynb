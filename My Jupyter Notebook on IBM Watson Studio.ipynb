{
 "cells": [
  {
   "cell_type": "markdown",
   "id": "48d8a3e3",
   "metadata": {},
   "source": [
    "# My Jupyter Notebook on IBM Watson Studio"
   ]
  },
  {
   "cell_type": "markdown",
   "id": "49935432",
   "metadata": {},
   "source": [
    "**Mohamed Belhedi**\n",
    "\n",
    "I,m a Chemical Technician and my current occupation is Driving Instructor\n"
   ]
  },
  {
   "cell_type": "markdown",
   "id": "fc93b0aa",
   "metadata": {},
   "source": [
    "*I,m intressting in Data Science cause the Job brings a lot or oppertunity and make fun working with Data,my Favourite Field is Machine Learning and NLP,KNN work with TF and Keras*"
   ]
  },
  {
   "cell_type": "markdown",
   "id": "87b50f88",
   "metadata": {},
   "source": [
    "### My code is a function count in Addition"
   ]
  },
  {
   "cell_type": "code",
   "execution_count": 1,
   "id": "81c77a26",
   "metadata": {},
   "outputs": [],
   "source": [
    "def add(x,y):\n",
    "    return x+y"
   ]
  },
  {
   "cell_type": "code",
   "execution_count": 2,
   "id": "e703a8b8",
   "metadata": {},
   "outputs": [
    {
     "data": {
      "text/plain": [
       "13"
      ]
     },
     "execution_count": 2,
     "metadata": {},
     "output_type": "execute_result"
    }
   ],
   "source": [
    "add(5,8)"
   ]
  },
  {
   "cell_type": "markdown",
   "id": "c53c6027",
   "metadata": {},
   "source": [
    "## My Page on GitHub\n"
   ]
  },
  {
   "cell_type": "markdown",
   "id": "728ed325",
   "metadata": {},
   "source": [
    "<a href=\"https://github.com/MohamedBelhedi\">GitHub Page</a>\n",
    "<img src=\"https://avatars.githubusercontent.com/u/85387389?v=4\" style=\"width:100px,height=100px\"/>\n",
    "<td>About Me</td>\n",
    "<ul>\n",
    "    <li>Name:Mohamed Belhedi</li>\n",
    "    <li>Age:34</li>\n",
    "    <li>Hobby:Programming,Fitness</li>\n",
    "    <li>Languages:Arabic,English,German,Indonesian</li>\n",
    "    \n",
    "\n",
    "</ul>"
   ]
  },
  {
   "cell_type": "code",
   "execution_count": null,
   "id": "c3120b4e",
   "metadata": {},
   "outputs": [],
   "source": []
  }
 ],
 "metadata": {
  "kernelspec": {
   "display_name": "Python 3 (ipykernel)",
   "language": "python",
   "name": "python3"
  },
  "language_info": {
   "codemirror_mode": {
    "name": "ipython",
    "version": 3
   },
   "file_extension": ".py",
   "mimetype": "text/x-python",
   "name": "python",
   "nbconvert_exporter": "python",
   "pygments_lexer": "ipython3",
   "version": "3.9.2"
  }
 },
 "nbformat": 4,
 "nbformat_minor": 5
}
